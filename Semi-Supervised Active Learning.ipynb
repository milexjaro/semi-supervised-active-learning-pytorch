{
 "cells": [
  {
   "cell_type": "markdown",
   "id": "a6612ba4",
   "metadata": {},
   "source": [
    "This notebook serves as the Deep Bayesian Active Learning paper implementation based on:\n",
    "- https://github.com/damienlancry/DBAL/blob/master/dbal_pytorch.ipynb\n",
    "- https://github.com/wohlert/semi-supervised-pytorch/blob/master/examples/notebooks/Deep%20Generative%20Model.ipynb"
   ]
  },
  {
   "cell_type": "code",
   "execution_count": 21,
   "id": "6582b740",
   "metadata": {},
   "outputs": [],
   "source": [
    "import os\n",
    "os.environ['CUDA_LAUNCH_BLOCKING'] = \"1\""
   ]
  },
  {
   "cell_type": "code",
   "execution_count": 22,
   "id": "56fa5b9e",
   "metadata": {
    "scrolled": true
   },
   "outputs": [],
   "source": [
    "import torch\n",
    "import numpy as np\n",
    "from torch import nn\n",
    "from torch.nn import functional as F\n",
    "from torch.utils.data import DataLoader\n",
    "from torchvision.transforms import ToTensor\n",
    "import torchvision.transforms as transforms\n",
    "from torchvision.datasets import MNIST\n",
    "from skorch import NeuralNetClassifier\n",
    "from modAL.models import ActiveLearner\n",
    "from torchsummary import summary\n",
    "import pickle\n",
    "\n",
    "import pandas as pd\n",
    "\n",
    "import matplotlib.pyplot as plt\n",
    "import seaborn as sns\n",
    "import sys"
   ]
  },
  {
   "cell_type": "code",
   "execution_count": 23,
   "id": "8800ea06",
   "metadata": {},
   "outputs": [],
   "source": [
    "# Use cuda if available\n",
    "cuda = torch.cuda.is_available()\n",
    "# Add a semi supervised module\n",
    "sys.path.insert(0, './semi-supervised')"
   ]
  },
  {
   "cell_type": "markdown",
   "id": "7a0425ef",
   "metadata": {},
   "source": [
    "### Network Architecture"
   ]
  },
  {
   "cell_type": "code",
   "execution_count": 24,
   "id": "349924b4",
   "metadata": {},
   "outputs": [],
   "source": [
    "class CNN(nn.Module):\n",
    "    def __init__(self,):\n",
    "        super(CNN, self).__init__()\n",
    "        self.convs = nn.Sequential(\n",
    "                        nn.Conv2d(1, 32, 4),\n",
    "                        nn.ReLU(),\n",
    "                        nn.Conv2d(32, 32, 4),\n",
    "                        nn.ReLU(),\n",
    "                        nn.MaxPool2d(2),\n",
    "                        nn.Dropout(0.25),\n",
    "                        nn.Flatten(),\n",
    "                        nn.Linear(11*11*32, 128),\n",
    "                        nn.ReLU(),\n",
    "                        nn.Dropout(0.5),\n",
    "                        nn.Linear(128, 10)\n",
    "                    )\n",
    "\n",
    "    def forward(self, x):\n",
    "        out = x\n",
    "        out = self.convs(out)\n",
    "        return out"
   ]
  },
  {
   "cell_type": "code",
   "execution_count": 25,
   "id": "539f8cb0",
   "metadata": {
    "scrolled": true
   },
   "outputs": [
    {
     "name": "stdout",
     "output_type": "stream",
     "text": [
      "----------------------------------------------------------------\n",
      "        Layer (type)               Output Shape         Param #\n",
      "================================================================\n",
      "            Conv2d-1           [-1, 32, 25, 25]             544\n",
      "              ReLU-2           [-1, 32, 25, 25]               0\n",
      "            Conv2d-3           [-1, 32, 22, 22]          16,416\n",
      "              ReLU-4           [-1, 32, 22, 22]               0\n",
      "         MaxPool2d-5           [-1, 32, 11, 11]               0\n",
      "           Dropout-6           [-1, 32, 11, 11]               0\n",
      "           Flatten-7                 [-1, 3872]               0\n",
      "            Linear-8                  [-1, 128]         495,744\n",
      "              ReLU-9                  [-1, 128]               0\n",
      "          Dropout-10                  [-1, 128]               0\n",
      "           Linear-11                   [-1, 10]           1,290\n",
      "================================================================\n",
      "Total params: 513,994\n",
      "Trainable params: 513,994\n",
      "Non-trainable params: 0\n",
      "----------------------------------------------------------------\n",
      "Input size (MB): 0.00\n",
      "Forward/backward pass size (MB): 0.63\n",
      "Params size (MB): 1.96\n",
      "Estimated Total Size (MB): 2.60\n",
      "----------------------------------------------------------------\n"
     ]
    }
   ],
   "source": [
    "summary(CNN().convs, (1,28,28), device=\"cpu\")"
   ]
  },
  {
   "cell_type": "code",
   "execution_count": 30,
   "id": "fa309851",
   "metadata": {},
   "outputs": [],
   "source": [
    "train = MNIST('.', train=True, download=True, transform=ToTensor())\n",
    "test = MNIST('.', train=False, download=True, transform=ToTensor())\n",
    "train_data_loader = DataLoader(train, shuffle = True, batch_size = 60_000)\n",
    "test_data_loader = DataLoader(test, shuffle = True, batch_size = 10_000)\n",
    "X_train, y_train = next(iter(train_data_loader))\n",
    "X_train = X_train.detach().cpu().numpy()\n",
    "y_train = y_train.detach().cpu().numpy()\n",
    "\n",
    "X_test, y_test = next(iter(test_data_loader))\n",
    "X_test = X_test.detach().cpu().numpy()\n",
    "y_test = y_test.detach().cpu().numpy()\n"
   ]
  },
  {
   "cell_type": "markdown",
   "id": "9537453a",
   "metadata": {},
   "source": [
    "## Preprocessing"
   ]
  },
  {
   "cell_type": "code",
   "execution_count": 31,
   "id": "27f454c4",
   "metadata": {},
   "outputs": [],
   "source": [
    "X_train = X_train.reshape(60_000, 1, 28, 28)\n",
    "X_test = X_test.reshape(10_000, 1, 28, 28)"
   ]
  },
  {
   "cell_type": "code",
   "execution_count": 32,
   "id": "2ac0a665",
   "metadata": {},
   "outputs": [],
   "source": [
    "# Create initial labelled data\n",
    "# Take 2 samples from each digit\n",
    "initial_labelled_idx = np.array([],dtype=np.int64)\n",
    "for i in range(10):\n",
    "    idx = np.random.choice(np.where(y_train==1)[0], size=2, replace=False)\n",
    "    initial_labelled_idx = np.concatenate((initial_labelled_idx, idx))\n",
    "\n",
    "X_train_labelled_initial = X_train[initial_labelled_idx]\n",
    "y_train_labelled_initial = y_train[initial_labelled_idx]"
   ]
  },
  {
   "cell_type": "code",
   "execution_count": 33,
   "id": "9dc03dac",
   "metadata": {},
   "outputs": [],
   "source": [
    "# Create a pool of unlabelled data\n",
    "X_train_unlabelled = np.delete(X_train, initial_labelled_idx, axis = 0)\n",
    "y_train_unlabelled = np.delete(y_train, initial_labelled_idx, axis = 0)"
   ]
  },
  {
   "cell_type": "markdown",
   "id": "1a499c75",
   "metadata": {},
   "source": [
    "### Query Strategies"
   ]
  },
  {
   "cell_type": "markdown",
   "id": "8d81f0dc",
   "metadata": {},
   "source": [
    "#### Random (Uniform)"
   ]
  },
  {
   "cell_type": "code",
   "execution_count": 34,
   "id": "301a3d58",
   "metadata": {},
   "outputs": [],
   "source": [
    "def uniform(learner, X, n_instances = 1):\n",
    "    query_idx = np.random.choice(range(len(X)), size = n_instances, replace = False)\n",
    "    return query_idx, X[query_idx]"
   ]
  },
  {
   "cell_type": "markdown",
   "id": "2ae2d126",
   "metadata": {},
   "source": [
    "#### Max Entropy"
   ]
  },
  {
   "cell_type": "markdown",
   "id": "93ee8320",
   "metadata": {},
   "source": [
    "Formula:\n",
    "\n",
    "$$\\mathbb{H} = -\\sum_{c}p_clog(p_c)$$\n",
    "\n",
    "Where $p_c$ is the probability of the instance being in the class $c$ and is approximated by:\n",
    "\n",
    "$$p_c = \\dfrac{1}{T}\\sum_{c}p_c^{(t)}$$\n",
    "\n",
    "Where $p_c^{(t)}$ is the probability of the instance being in the class $c$ at t-th forward pass"
   ]
  },
  {
   "cell_type": "code",
   "execution_count": 35,
   "id": "debe359b",
   "metadata": {},
   "outputs": [],
   "source": [
    "def max_entropy(learner, X, n_instances=1, T=100):\n",
    "    random_subset = np.random.choice(range(len(X)), size=2000, replace=False)\n",
    "    with torch.no_grad():\n",
    "        outputs = np.stack([torch.softmax(learner.estimator.forward(X[random_subset], training=True),dim=-1).cpu().numpy()\n",
    "                            for t in range(100)])\n",
    "    pc = outputs.mean(axis=0)\n",
    "    acquisition = (-pc*np.log(pc + 1e-10)).sum(axis=-1)\n",
    "    idx = (-acquisition).argsort()[:n_instances]\n",
    "    query_idx = random_subset[idx]\n",
    "    return query_idx, X[query_idx]"
   ]
  },
  {
   "cell_type": "markdown",
   "id": "d0ead77e",
   "metadata": {},
   "source": [
    "#### Bald"
   ]
  },
  {
   "cell_type": "code",
   "execution_count": 36,
   "id": "48e2dc79",
   "metadata": {},
   "outputs": [],
   "source": [
    "def bald(learner, X, n_instances=1, T=100):\n",
    "    random_subset = np.random.choice(range(len(X)), size=2000, replace=False)\n",
    "    with torch.no_grad():\n",
    "        outputs = np.stack([torch.softmax(learner.estimator.forward(X[random_subset], training=True),dim=-1).cpu().numpy()\n",
    "                            for t in range(100)])\n",
    "    pc = outputs.mean(axis=0)\n",
    "    H   = (-pc*np.log(pc + 1e-10)).sum(axis=-1)\n",
    "    E_H = - np.mean(np.sum(outputs * np.log(outputs + 1e-10), axis=-1), axis=0)  # [batch size]\n",
    "    acquisition = H - E_H\n",
    "    idx = (-acquisition).argsort()[:n_instances]\n",
    "    query_idx = random_subset[idx]\n",
    "    return query_idx, X[query_idx]    \n"
   ]
  },
  {
   "cell_type": "markdown",
   "id": "b6640132",
   "metadata": {},
   "source": [
    "### Active Learning "
   ]
  },
  {
   "cell_type": "code",
   "execution_count": 37,
   "id": "b42c881a",
   "metadata": {},
   "outputs": [],
   "source": [
    "device = \"cuda\" if torch.cuda.is_available() else \"cpu\"\n",
    "\n",
    "query_strategies = {'random':{'function':uniform,\n",
    "                                'classifier': None,\n",
    "                                'learner': None,\n",
    "                                'performance_history': None},\n",
    "                    'max_entropy':{'function':max_entropy,\n",
    "                                'classifier': None,\n",
    "                                'learner': None,\n",
    "                                'performance_history': None},\n",
    "                    'bald':{'function':bald,\n",
    "                                'classifier': None,\n",
    "                                'learner': None,\n",
    "                                'performance_history': None},\n",
    "                    }"
   ]
  },
  {
   "cell_type": "code",
   "execution_count": 57,
   "id": "8db2c23d",
   "metadata": {},
   "outputs": [],
   "source": [
    "def active_learning_procedure(query_strategy,\n",
    "                              X_test,\n",
    "                              y_test,\n",
    "                              X_pool,\n",
    "                              y_pool,\n",
    "                              X_initial,\n",
    "                              y_initial,\n",
    "                              estimator,\n",
    "                              n_queries=100,\n",
    "                              n_instances=10,\n",
    "                              query_strategy_label=''):\n",
    "    learner = ActiveLearner(estimator=estimator,\n",
    "                            X_training=X_initial,\n",
    "                            y_training=y_initial,\n",
    "                            query_strategy=query_strategy,\n",
    "                           )\n",
    "    perf_hist = [learner.score(X_test, y_test)]\n",
    "    for index in range(n_queries):\n",
    "        query_idx, query_instance = learner.query(X_pool, n_instances)\n",
    "        learner.teach(X_pool[query_idx], y_pool[query_idx])\n",
    "        X_pool = np.delete(X_pool, query_idx, axis=0)\n",
    "        y_pool = np.delete(y_pool, query_idx, axis=0)\n",
    "        model_accuracy = learner.score(X_test, y_test)\n",
    "        print('{q}Accuracy after query {n}: {acc:0.4f}'.format(q=f'[{query_strategy_label}] ', n=index + 1, acc=model_accuracy))\n",
    "        perf_hist.append(model_accuracy)\n",
    "\n",
    "    # Save after-query labelled and unlabelled data\n",
    "    torch.save(learner.X_training, f'./saved_data/X_train_labelled_{query_strategy_label}.pt')\n",
    "    torch.save(learner.y_training, f'./saved_data/y_train_labelled_{query_strategy_label}.pt')\n",
    "\n",
    "    torch.save(X_pool, f'./saved_data/X_train_unlabelled_{query_strategy_label}.pt')\n",
    "    torch.save(y_pool, f'./saved_data/y_train_unlabelled_{query_strategy_label}.pt')\n",
    "\n",
    "    return learner, perf_hist"
   ]
  },
  {
   "cell_type": "code",
   "execution_count": 40,
   "id": "8dba7250",
   "metadata": {},
   "outputs": [
    {
     "name": "stdout",
     "output_type": "stream",
     "text": [
      "[random] Accuracy after query 1: 0.3758\n",
      "[random] Accuracy after query 2: 0.4713\n",
      "[random] Accuracy after query 3: 0.5600\n",
      "[random] Accuracy after query 4: 0.6386\n",
      "[random] Accuracy after query 5: 0.6814\n",
      "[random] Accuracy after query 6: 0.7645\n",
      "[random] Accuracy after query 7: 0.7708\n",
      "[random] Accuracy after query 8: 0.8015\n",
      "[random] Accuracy after query 9: 0.8110\n",
      "[random] Accuracy after query 10: 0.8289\n",
      "[random] Accuracy after query 11: 0.8112\n",
      "[random] Accuracy after query 12: 0.8080\n",
      "[random] Accuracy after query 13: 0.8293\n",
      "[random] Accuracy after query 14: 0.8273\n",
      "[random] Accuracy after query 15: 0.8458\n",
      "[random] Accuracy after query 16: 0.8559\n",
      "[random] Accuracy after query 17: 0.8770\n",
      "[random] Accuracy after query 18: 0.8636\n",
      "[random] Accuracy after query 19: 0.8621\n",
      "[random] Accuracy after query 20: 0.8836\n",
      "[random] Accuracy after query 21: 0.8755\n",
      "[random] Accuracy after query 22: 0.8792\n",
      "[random] Accuracy after query 23: 0.8743\n",
      "[random] Accuracy after query 24: 0.8799\n",
      "[random] Accuracy after query 25: 0.8735\n",
      "[random] Accuracy after query 26: 0.8936\n",
      "[random] Accuracy after query 27: 0.8865\n",
      "[random] Accuracy after query 28: 0.9107\n",
      "[random] Accuracy after query 29: 0.8877\n",
      "[random] Accuracy after query 30: 0.9046\n",
      "[random] Accuracy after query 31: 0.8992\n",
      "[random] Accuracy after query 32: 0.9013\n",
      "[random] Accuracy after query 33: 0.9086\n",
      "[random] Accuracy after query 34: 0.9077\n",
      "[random] Accuracy after query 35: 0.9151\n",
      "[random] Accuracy after query 36: 0.9167\n",
      "[random] Accuracy after query 37: 0.9146\n",
      "[random] Accuracy after query 38: 0.9134\n",
      "[random] Accuracy after query 39: 0.9205\n",
      "[random] Accuracy after query 40: 0.9182\n",
      "[random] Accuracy after query 41: 0.9234\n",
      "[random] Accuracy after query 42: 0.9229\n",
      "[random] Accuracy after query 43: 0.9136\n",
      "[random] Accuracy after query 44: 0.9200\n",
      "[random] Accuracy after query 45: 0.9304\n",
      "[random] Accuracy after query 46: 0.9276\n",
      "[random] Accuracy after query 47: 0.9267\n",
      "[random] Accuracy after query 48: 0.9223\n",
      "[random] Accuracy after query 49: 0.9321\n",
      "[random] Accuracy after query 50: 0.9237\n",
      "[random] Accuracy after query 51: 0.9251\n",
      "[random] Accuracy after query 52: 0.9239\n",
      "[random] Accuracy after query 53: 0.9277\n",
      "[random] Accuracy after query 54: 0.9249\n",
      "[random] Accuracy after query 55: 0.9258\n",
      "[random] Accuracy after query 56: 0.9286\n",
      "[random] Accuracy after query 57: 0.9306\n",
      "[random] Accuracy after query 58: 0.9328\n",
      "[random] Accuracy after query 59: 0.9345\n",
      "[random] Accuracy after query 60: 0.9290\n",
      "[random] Accuracy after query 61: 0.9342\n",
      "[random] Accuracy after query 62: 0.9353\n",
      "[random] Accuracy after query 63: 0.9248\n",
      "[random] Accuracy after query 64: 0.9324\n",
      "[random] Accuracy after query 65: 0.9335\n",
      "[random] Accuracy after query 66: 0.9372\n",
      "[random] Accuracy after query 67: 0.9355\n",
      "[random] Accuracy after query 68: 0.9399\n",
      "[random] Accuracy after query 69: 0.9369\n",
      "[random] Accuracy after query 70: 0.9372\n",
      "[random] Accuracy after query 71: 0.9376\n",
      "[random] Accuracy after query 72: 0.9341\n",
      "[random] Accuracy after query 73: 0.9395\n",
      "[random] Accuracy after query 74: 0.9409\n",
      "[random] Accuracy after query 75: 0.9412\n",
      "[random] Accuracy after query 76: 0.9387\n",
      "[random] Accuracy after query 77: 0.9441\n",
      "[random] Accuracy after query 78: 0.9409\n",
      "[random] Accuracy after query 79: 0.9442\n",
      "[random] Accuracy after query 80: 0.9409\n",
      "[random] Accuracy after query 81: 0.9354\n",
      "[random] Accuracy after query 82: 0.9468\n",
      "[random] Accuracy after query 83: 0.9458\n",
      "[random] Accuracy after query 84: 0.9483\n",
      "[random] Accuracy after query 85: 0.9408\n",
      "[random] Accuracy after query 86: 0.9431\n",
      "[random] Accuracy after query 87: 0.9463\n",
      "[random] Accuracy after query 88: 0.9484\n",
      "[random] Accuracy after query 89: 0.9487\n",
      "[random] Accuracy after query 90: 0.9485\n",
      "[random] Accuracy after query 91: 0.9494\n",
      "[random] Accuracy after query 92: 0.9474\n",
      "[random] Accuracy after query 93: 0.9509\n",
      "[random] Accuracy after query 94: 0.9547\n",
      "[random] Accuracy after query 95: 0.9565\n",
      "[random] Accuracy after query 96: 0.9504\n",
      "[random] Accuracy after query 97: 0.9500\n",
      "[random] Accuracy after query 98: 0.9534\n",
      "[random] Accuracy after query 99: 0.9464\n",
      "[random] Accuracy after query 100: 0.9502\n",
      "[max_entropy] Accuracy after query 1: 0.3021\n",
      "[max_entropy] Accuracy after query 2: 0.3607\n",
      "[max_entropy] Accuracy after query 3: 0.4912\n",
      "[max_entropy] Accuracy after query 4: 0.6539\n",
      "[max_entropy] Accuracy after query 5: 0.6568\n",
      "[max_entropy] Accuracy after query 6: 0.7068\n",
      "[max_entropy] Accuracy after query 7: 0.7223\n",
      "[max_entropy] Accuracy after query 8: 0.7680\n",
      "[max_entropy] Accuracy after query 9: 0.7857\n",
      "[max_entropy] Accuracy after query 10: 0.8296\n",
      "[max_entropy] Accuracy after query 11: 0.8150\n",
      "[max_entropy] Accuracy after query 12: 0.7969\n",
      "[max_entropy] Accuracy after query 13: 0.8096\n",
      "[max_entropy] Accuracy after query 14: 0.8388\n",
      "[max_entropy] Accuracy after query 15: 0.8523\n",
      "[max_entropy] Accuracy after query 16: 0.8686\n",
      "[max_entropy] Accuracy after query 17: 0.8785\n",
      "[max_entropy] Accuracy after query 18: 0.8562\n",
      "[max_entropy] Accuracy after query 19: 0.8954\n",
      "[max_entropy] Accuracy after query 20: 0.8798\n",
      "[max_entropy] Accuracy after query 21: 0.9066\n",
      "[max_entropy] Accuracy after query 22: 0.9089\n",
      "[max_entropy] Accuracy after query 23: 0.9070\n",
      "[max_entropy] Accuracy after query 24: 0.9130\n",
      "[max_entropy] Accuracy after query 25: 0.8902\n",
      "[max_entropy] Accuracy after query 26: 0.8844\n",
      "[max_entropy] Accuracy after query 27: 0.9204\n",
      "[max_entropy] Accuracy after query 28: 0.9166\n",
      "[max_entropy] Accuracy after query 29: 0.9204\n",
      "[max_entropy] Accuracy after query 30: 0.9254\n",
      "[max_entropy] Accuracy after query 31: 0.9236\n",
      "[max_entropy] Accuracy after query 32: 0.9287\n",
      "[max_entropy] Accuracy after query 33: 0.9290\n",
      "[max_entropy] Accuracy after query 34: 0.9399\n",
      "[max_entropy] Accuracy after query 35: 0.9362\n",
      "[max_entropy] Accuracy after query 36: 0.9424\n",
      "[max_entropy] Accuracy after query 37: 0.9441\n",
      "[max_entropy] Accuracy after query 38: 0.9470\n",
      "[max_entropy] Accuracy after query 39: 0.9430\n",
      "[max_entropy] Accuracy after query 40: 0.9419\n",
      "[max_entropy] Accuracy after query 41: 0.9427\n",
      "[max_entropy] Accuracy after query 42: 0.9540\n",
      "[max_entropy] Accuracy after query 43: 0.9539\n",
      "[max_entropy] Accuracy after query 44: 0.9555\n",
      "[max_entropy] Accuracy after query 45: 0.9511\n",
      "[max_entropy] Accuracy after query 46: 0.9546\n",
      "[max_entropy] Accuracy after query 47: 0.9595\n",
      "[max_entropy] Accuracy after query 48: 0.9575\n",
      "[max_entropy] Accuracy after query 49: 0.9612\n",
      "[max_entropy] Accuracy after query 50: 0.9634\n",
      "[max_entropy] Accuracy after query 51: 0.9638\n",
      "[max_entropy] Accuracy after query 52: 0.9610\n",
      "[max_entropy] Accuracy after query 53: 0.9612\n",
      "[max_entropy] Accuracy after query 54: 0.9630\n",
      "[max_entropy] Accuracy after query 55: 0.9628\n",
      "[max_entropy] Accuracy after query 56: 0.9571\n",
      "[max_entropy] Accuracy after query 57: 0.9665\n",
      "[max_entropy] Accuracy after query 58: 0.9628\n",
      "[max_entropy] Accuracy after query 59: 0.9670\n",
      "[max_entropy] Accuracy after query 60: 0.9667\n",
      "[max_entropy] Accuracy after query 61: 0.9625\n",
      "[max_entropy] Accuracy after query 62: 0.9655\n",
      "[max_entropy] Accuracy after query 63: 0.9738\n",
      "[max_entropy] Accuracy after query 64: 0.9667\n",
      "[max_entropy] Accuracy after query 65: 0.9723\n",
      "[max_entropy] Accuracy after query 66: 0.9737\n",
      "[max_entropy] Accuracy after query 67: 0.9733\n",
      "[max_entropy] Accuracy after query 68: 0.9699\n",
      "[max_entropy] Accuracy after query 69: 0.9751\n",
      "[max_entropy] Accuracy after query 70: 0.9758\n",
      "[max_entropy] Accuracy after query 71: 0.9768\n",
      "[max_entropy] Accuracy after query 72: 0.9768\n",
      "[max_entropy] Accuracy after query 73: 0.9769\n",
      "[max_entropy] Accuracy after query 74: 0.9781\n",
      "[max_entropy] Accuracy after query 75: 0.9785\n",
      "[max_entropy] Accuracy after query 76: 0.9776\n",
      "[max_entropy] Accuracy after query 77: 0.9755\n",
      "[max_entropy] Accuracy after query 78: 0.9742\n",
      "[max_entropy] Accuracy after query 79: 0.9757\n",
      "[max_entropy] Accuracy after query 80: 0.9793\n",
      "[max_entropy] Accuracy after query 81: 0.9770\n",
      "[max_entropy] Accuracy after query 82: 0.9752\n",
      "[max_entropy] Accuracy after query 83: 0.9731\n",
      "[max_entropy] Accuracy after query 84: 0.9756\n",
      "[max_entropy] Accuracy after query 85: 0.9771\n",
      "[max_entropy] Accuracy after query 86: 0.9767\n",
      "[max_entropy] Accuracy after query 87: 0.9748\n",
      "[max_entropy] Accuracy after query 88: 0.9772\n",
      "[max_entropy] Accuracy after query 89: 0.9775\n",
      "[max_entropy] Accuracy after query 90: 0.9783\n",
      "[max_entropy] Accuracy after query 91: 0.9773\n",
      "[max_entropy] Accuracy after query 92: 0.9812\n",
      "[max_entropy] Accuracy after query 93: 0.9805\n",
      "[max_entropy] Accuracy after query 94: 0.9761\n",
      "[max_entropy] Accuracy after query 95: 0.9807\n",
      "[max_entropy] Accuracy after query 96: 0.9813\n",
      "[max_entropy] Accuracy after query 97: 0.9831\n",
      "[max_entropy] Accuracy after query 98: 0.9808\n",
      "[max_entropy] Accuracy after query 99: 0.9800\n",
      "[max_entropy] Accuracy after query 100: 0.9763\n",
      "[bald] Accuracy after query 1: 0.3335\n",
      "[bald] Accuracy after query 2: 0.4437\n",
      "[bald] Accuracy after query 3: 0.5094\n",
      "[bald] Accuracy after query 4: 0.5416\n",
      "[bald] Accuracy after query 5: 0.6823\n",
      "[bald] Accuracy after query 6: 0.7001\n",
      "[bald] Accuracy after query 7: 0.7148\n",
      "[bald] Accuracy after query 8: 0.7497\n",
      "[bald] Accuracy after query 9: 0.8007\n",
      "[bald] Accuracy after query 10: 0.8086\n",
      "[bald] Accuracy after query 11: 0.8079\n",
      "[bald] Accuracy after query 12: 0.7864\n",
      "[bald] Accuracy after query 13: 0.8266\n",
      "[bald] Accuracy after query 14: 0.8311\n",
      "[bald] Accuracy after query 15: 0.8250\n",
      "[bald] Accuracy after query 16: 0.8654\n",
      "[bald] Accuracy after query 17: 0.8442\n",
      "[bald] Accuracy after query 18: 0.8871\n",
      "[bald] Accuracy after query 19: 0.8824\n",
      "[bald] Accuracy after query 20: 0.8925\n",
      "[bald] Accuracy after query 21: 0.8975\n",
      "[bald] Accuracy after query 22: 0.8879\n",
      "[bald] Accuracy after query 23: 0.9022\n",
      "[bald] Accuracy after query 24: 0.9034\n",
      "[bald] Accuracy after query 25: 0.9067\n",
      "[bald] Accuracy after query 26: 0.8933\n",
      "[bald] Accuracy after query 27: 0.9075\n",
      "[bald] Accuracy after query 28: 0.8982\n",
      "[bald] Accuracy after query 29: 0.9210\n",
      "[bald] Accuracy after query 30: 0.9262\n",
      "[bald] Accuracy after query 31: 0.9283\n",
      "[bald] Accuracy after query 32: 0.9405\n",
      "[bald] Accuracy after query 33: 0.9290\n",
      "[bald] Accuracy after query 34: 0.9355\n",
      "[bald] Accuracy after query 35: 0.9362\n",
      "[bald] Accuracy after query 36: 0.9346\n",
      "[bald] Accuracy after query 37: 0.9387\n",
      "[bald] Accuracy after query 38: 0.9444\n",
      "[bald] Accuracy after query 39: 0.9454\n",
      "[bald] Accuracy after query 40: 0.9499\n",
      "[bald] Accuracy after query 41: 0.9517\n",
      "[bald] Accuracy after query 42: 0.9596\n",
      "[bald] Accuracy after query 43: 0.9533\n",
      "[bald] Accuracy after query 44: 0.9590\n",
      "[bald] Accuracy after query 45: 0.9594\n",
      "[bald] Accuracy after query 46: 0.9633\n",
      "[bald] Accuracy after query 47: 0.9605\n",
      "[bald] Accuracy after query 48: 0.9633\n",
      "[bald] Accuracy after query 49: 0.9638\n",
      "[bald] Accuracy after query 50: 0.9617\n",
      "[bald] Accuracy after query 51: 0.9606\n",
      "[bald] Accuracy after query 52: 0.9605\n",
      "[bald] Accuracy after query 53: 0.9667\n",
      "[bald] Accuracy after query 54: 0.9635\n",
      "[bald] Accuracy after query 55: 0.9662\n",
      "[bald] Accuracy after query 56: 0.9646\n",
      "[bald] Accuracy after query 57: 0.9673\n",
      "[bald] Accuracy after query 58: 0.9706\n",
      "[bald] Accuracy after query 59: 0.9695\n",
      "[bald] Accuracy after query 60: 0.9727\n",
      "[bald] Accuracy after query 61: 0.9701\n",
      "[bald] Accuracy after query 62: 0.9665\n",
      "[bald] Accuracy after query 63: 0.9720\n",
      "[bald] Accuracy after query 64: 0.9709\n",
      "[bald] Accuracy after query 65: 0.9712\n",
      "[bald] Accuracy after query 66: 0.9705\n",
      "[bald] Accuracy after query 67: 0.9723\n",
      "[bald] Accuracy after query 68: 0.9745\n",
      "[bald] Accuracy after query 69: 0.9740\n",
      "[bald] Accuracy after query 70: 0.9756\n",
      "[bald] Accuracy after query 71: 0.9769\n",
      "[bald] Accuracy after query 72: 0.9769\n",
      "[bald] Accuracy after query 73: 0.9757\n",
      "[bald] Accuracy after query 74: 0.9763\n",
      "[bald] Accuracy after query 75: 0.9755\n",
      "[bald] Accuracy after query 76: 0.9746\n",
      "[bald] Accuracy after query 77: 0.9764\n",
      "[bald] Accuracy after query 78: 0.9748\n",
      "[bald] Accuracy after query 79: 0.9745\n",
      "[bald] Accuracy after query 80: 0.9773\n",
      "[bald] Accuracy after query 81: 0.9779\n",
      "[bald] Accuracy after query 82: 0.9799\n",
      "[bald] Accuracy after query 83: 0.9777\n",
      "[bald] Accuracy after query 84: 0.9760\n",
      "[bald] Accuracy after query 85: 0.9788\n",
      "[bald] Accuracy after query 86: 0.9766\n",
      "[bald] Accuracy after query 87: 0.9748\n",
      "[bald] Accuracy after query 88: 0.9771\n",
      "[bald] Accuracy after query 89: 0.9784\n",
      "[bald] Accuracy after query 90: 0.9795\n",
      "[bald] Accuracy after query 91: 0.9787\n",
      "[bald] Accuracy after query 92: 0.9795\n",
      "[bald] Accuracy after query 93: 0.9786\n",
      "[bald] Accuracy after query 94: 0.9811\n",
      "[bald] Accuracy after query 95: 0.9792\n",
      "[bald] Accuracy after query 96: 0.9803\n",
      "[bald] Accuracy after query 97: 0.9802\n",
      "[bald] Accuracy after query 98: 0.9791\n",
      "[bald] Accuracy after query 99: 0.9824\n",
      "[bald] Accuracy after query 100: 0.9828\n"
     ]
    }
   ],
   "source": [
    "for query_strategy_name, query_strategy in query_strategies.items():\n",
    "    query_strategy['classifier'] = NeuralNetClassifier(CNN,\n",
    "                                max_epochs=50,\n",
    "                                batch_size=128,\n",
    "                                lr=0.001,\n",
    "                                optimizer=torch.optim.Adam,\n",
    "                                criterion=torch.nn.CrossEntropyLoss,\n",
    "                                train_split=None,\n",
    "                                verbose=0,\n",
    "                                device=device)\n",
    "    query_strategy['learner'], query_strategy['performance_history'] = active_learning_procedure(query_strategy['function'],\n",
    "                                                X_test,\n",
    "                                                y_test,\n",
    "                                                X_train_unlabelled,\n",
    "                                                y_train_unlabelled,\n",
    "                                                X_train_labelled_initial,\n",
    "                                                y_train_labelled_initial,\n",
    "                                                query_strategy['classifier'],\n",
    "                                                query_strategy_label=query_strategy_name)"
   ]
  },
  {
   "cell_type": "code",
   "execution_count": 41,
   "id": "69232167",
   "metadata": {},
   "outputs": [],
   "source": [
    "# Save models and data\n",
    "performance_histories = {}\n",
    "for query_strategy_name, query_strategy in query_strategies.items():\n",
    "    # Save classifiers\n",
    "    query_strategy['classifier'].save_params(f_params=f'./saved_models/{query_strategy_name}.pkl')\n",
    "\n",
    "    # Save data after queries:\n",
    "    # torch.save(query_strategy['learner'].X_training, f'./saved_data/X_training_{query_strategy_name}.pt')\n",
    "    # torch.save(query_strategy['learner'].y_training, f'./saved_data/y_training_{query_strategy_name}.pt')\n",
    "\n",
    "# Save initial labelled and unlabelled data\n",
    "X_train_labelled_initial = X_train[initial_labelled_idx]\n",
    "y_train_labelled_initial = y_train[initial_labelled_idx]\n",
    "torch.save(X_train_labelled_initial, f'./saved_data/X_training_labelled.pt')\n",
    "torch.save(y_train_labelled_initial, f'./saved_data/y_training_labelled.pt')\n",
    "torch.save(X_train_unlabelled, f'./saved_data/X_training_unlabelled.pt')\n",
    "torch.save(y_train_unlabelled, f'./saved_data/y_training_unlabelled.pt')\n",
    "\n",
    "# Save test data\n",
    "torch.save(X_test, f'./saved_data/X_test.pt')\n",
    "torch.save(y_test, f'./saved_data/y_test.pt')\n",
    "\n",
    "# Save performance histories (preprocessing)\n",
    "performance_histories = {query_strategy_name: query_strategy['performance_history'] for query_strategy_name, query_strategy in query_strategies.items()}\n",
    "pd.DataFrame(performance_histories).to_csv(f'./saved_data/active_learning_performance_histories.csv')\n"
   ]
  },
  {
   "cell_type": "code",
   "execution_count": 42,
   "id": "b6654fe4",
   "metadata": {},
   "outputs": [
    {
     "data": {
      "text/plain": [
       "<matplotlib.legend.Legend at 0x7fd321f119d0>"
      ]
     },
     "execution_count": 42,
     "metadata": {},
     "output_type": "execute_result"
    },
    {
     "data": {
      "image/png": "[encoded data removed]",
      "text/plain": [
       "<Figure size 432x288 with 1 Axes>"
      ]
     },
     "metadata": {},
     "output_type": "display_data"
    }
   ],
   "source": [
    "# Plot\n",
    "sns.set()\n",
    "plt.plot(query_strategies['max_entropy']['performance_history'], label=\"max entropy\")\n",
    "plt.plot(query_strategies['bald']['performance_history'], label=\"bald\")\n",
    "plt.plot(query_strategies['random']['performance_history'], label=\"random\")\n",
    "plt.ylim([0.7,1])\n",
    "plt.legend()\n"
   ]
  },
  {
   "cell_type": "markdown",
   "id": "3c5e79de",
   "metadata": {},
   "source": [
    "###  Semi-supervised Learning\n",
    "\n",
    "<img src=\"./images/dgm.png\" width=\"400px\"/>"
   ]
  },
  {
   "cell_type": "code",
   "execution_count": 43,
   "id": "042cd798",
   "metadata": {},
   "outputs": [
    {
     "name": "stderr",
     "output_type": "stream",
     "text": [
      "/root/ucl/dissertation/./semi-supervised/models/vae.py:114: UserWarning: nn.init.xavier_normal is now deprecated in favor of nn.init.xavier_normal_.\n",
      "  init.xavier_normal(m.weight.data)\n"
     ]
    },
    {
     "data": {
      "text/plain": [
       "DeepGenerativeModel(\n",
       "  (encoder): Encoder(\n",
       "    (hidden): ModuleList(\n",
       "      (0): Linear(in_features=794, out_features=256, bias=True)\n",
       "      (1): Linear(in_features=256, out_features=128, bias=True)\n",
       "    )\n",
       "    (sample): GaussianSample(\n",
       "      (mu): Linear(in_features=128, out_features=32, bias=True)\n",
       "      (log_var): Linear(in_features=128, out_features=32, bias=True)\n",
       "    )\n",
       "  )\n",
       "  (decoder): Decoder(\n",
       "    (hidden): ModuleList(\n",
       "      (0): Linear(in_features=42, out_features=128, bias=True)\n",
       "      (1): Linear(in_features=128, out_features=256, bias=True)\n",
       "    )\n",
       "    (reconstruction): Linear(in_features=256, out_features=784, bias=True)\n",
       "    (output_activation): Sigmoid()\n",
       "  )\n",
       "  (classifier): Classifier(\n",
       "    (dense): Linear(in_features=784, out_features=256, bias=True)\n",
       "    (logits): Linear(in_features=256, out_features=10, bias=True)\n",
       "  )\n",
       ")"
      ]
     },
     "execution_count": 43,
     "metadata": {},
     "output_type": "execute_result"
    }
   ],
   "source": [
    "from models import DeepGenerativeModel\n",
    "\n",
    "y_dim = 10\n",
    "z_dim = 32\n",
    "h_dim = [256, 128]\n",
    "\n",
    "model = DeepGenerativeModel([784, y_dim, z_dim, h_dim])\n",
    "model\n"
   ]
  },
  {
   "cell_type": "code",
   "execution_count": 44,
   "id": "35b66488",
   "metadata": {},
   "outputs": [],
   "source": [
    "from datautils import SemiSupervisedActiveLearningDataset\n",
    "from utils import onehot\n",
    "flatten_bernoulli = lambda x: transforms.ToTensor()(x).view(-1).bernoulli()"
   ]
  },
  {
   "cell_type": "code",
   "execution_count": 56,
   "id": "bbaed53a",
   "metadata": {},
   "outputs": [
    {
     "name": "stdout",
     "output_type": "stream",
     "text": [
      "File is not found\n"
     ]
    }
   ],
   "source": [
    "a = SemiSupervisedActiveLearningDataset(f'./saved_data', train=True,\n",
    "                        transform=flatten_bernoulli, target_transform=onehot(10))"
   ]
  },
  {
   "cell_type": "code",
   "execution_count": 13,
   "id": "f5cc88d7",
   "metadata": {},
   "outputs": [
    {
     "data": {
      "text/plain": [
       "torch.Size([60000, 28, 28])"
      ]
     },
     "execution_count": 13,
     "metadata": {},
     "output_type": "execute_result"
    }
   ],
   "source": [
    "a.train_data.shape"
   ]
  },
  {
   "cell_type": "code",
   "execution_count": 54,
   "id": "4a58acb0",
   "metadata": {},
   "outputs": [],
   "source": [
    "from functools import reduce\n",
    "from operator import __or__\n",
    "labels = [99,1,0,3,1, -1]\n",
    "(indices,) = np.where(reduce(__or__, [labels == i for i in np.arange(10)]))\n"
   ]
  },
  {
   "cell_type": "code",
   "execution_count": 55,
   "id": "2bf1e6c8",
   "metadata": {},
   "outputs": [
    {
     "data": {
      "text/plain": [
       "array([1, 2, 3, 4])"
      ]
     },
     "execution_count": 55,
     "metadata": {},
     "output_type": "execute_result"
    }
   ],
   "source": [
    "indices"
   ]
  },
  {
   "cell_type": "code",
   "execution_count": 14,
   "id": "4edae815",
   "metadata": {},
   "outputs": [],
   "source": [
    "from datautils import get_mnist\n",
    "\n",
    "# Only use 10 labelled examples per class\n",
    "# The rest of the data is unlabelled.\n",
    "labelled, unlabelled, validation = get_mnist(location=\"./saved_data\", batch_size=64, labels_per_class=10)\n",
    "alpha = 0.1 * len(unlabelled) / len(labelled)\n",
    "\n",
    "def binary_cross_entropy(y_pred, y):\n",
    "    return -torch.sum(y * torch.log(y_pred + 1e-8) + (1 - y) * torch.log(1 - y_pred + 1e-8), dim=-1)\n",
    "\n",
    "optimizer = torch.optim.Adam(model.parameters(), lr=3e-4, betas=(0.9, 0.999))\n"
   ]
  },
  {
   "cell_type": "code",
   "execution_count": 15,
   "id": "d5563ffb",
   "metadata": {},
   "outputs": [],
   "source": [
    "from itertools import cycle\n",
    "from inference import SVI, ImportanceWeightedSampler\n",
    "\n",
    "# You can use importance weighted samples [Burda, 2015] to get a better estimate\n",
    "# on the log-likelihood.\n",
    "sampler = ImportanceWeightedSampler(mc=1, iw=1)\n",
    "\n",
    "if cuda: model = model.cuda()\n",
    "elbo = SVI(model, likelihood=binary_cross_entropy, sampler=sampler)\n"
   ]
  },
  {
   "cell_type": "code",
   "execution_count": 16,
   "id": "d45d84fb",
   "metadata": {},
   "outputs": [
    {
     "name": "stdout",
     "output_type": "stream",
     "text": [
      "Epoch: 0\n",
      "[Train]\t\t J_a: 193.75, accuracy: 0.91\n",
      "[Validation]\t J_a: 235.68, accuracy: 0.38\n",
      "Epoch: 1\n",
      "[Train]\t\t J_a: 123.65, accuracy: 0.92\n",
      "[Validation]\t J_a: 269.08, accuracy: 0.39\n",
      "Epoch: 2\n",
      "[Train]\t\t J_a: 114.75, accuracy: 0.93\n",
      "[Validation]\t J_a: 305.51, accuracy: 0.41\n",
      "Epoch: 3\n",
      "[Train]\t\t J_a: 110.52, accuracy: 0.94\n",
      "[Validation]\t J_a: 325.57, accuracy: 0.42\n",
      "Epoch: 4\n",
      "[Train]\t\t J_a: 107.07, accuracy: 0.94\n",
      "[Validation]\t J_a: 354.71, accuracy: 0.42\n"
     ]
    },
    {
     "ename": "KeyboardInterrupt",
     "evalue": "",
     "output_type": "error",
     "traceback": [
      "\u001b[0;31m---------------------------------------------------------------------------\u001b[0m",
      "\u001b[0;31mKeyboardInterrupt\u001b[0m                         Traceback (most recent call last)",
      "Input \u001b[0;32mIn [16]\u001b[0m, in \u001b[0;36m<cell line: 3>\u001b[0;34m()\u001b[0m\n\u001b[1;32m     22\u001b[0m classication_loss \u001b[38;5;241m=\u001b[39m torch\u001b[38;5;241m.\u001b[39msum(y \u001b[38;5;241m*\u001b[39m torch\u001b[38;5;241m.\u001b[39mlog(logits \u001b[38;5;241m+\u001b[39m \u001b[38;5;241m1e-8\u001b[39m), dim\u001b[38;5;241m=\u001b[39m\u001b[38;5;241m1\u001b[39m)\u001b[38;5;241m.\u001b[39mmean()\n\u001b[1;32m     24\u001b[0m J_alpha \u001b[38;5;241m=\u001b[39m L \u001b[38;5;241m-\u001b[39m alpha \u001b[38;5;241m*\u001b[39m classication_loss \u001b[38;5;241m+\u001b[39m U\n\u001b[0;32m---> 26\u001b[0m \u001b[43mJ_alpha\u001b[49m\u001b[38;5;241;43m.\u001b[39;49m\u001b[43mbackward\u001b[49m\u001b[43m(\u001b[49m\u001b[43m)\u001b[49m\n\u001b[1;32m     27\u001b[0m optimizer\u001b[38;5;241m.\u001b[39mstep()\n\u001b[1;32m     28\u001b[0m optimizer\u001b[38;5;241m.\u001b[39mzero_grad()\n",
      "File \u001b[0;32m~/anaconda3/envs/dissertation/lib/python3.8/site-packages/torch/_tensor.py:396\u001b[0m, in \u001b[0;36mTensor.backward\u001b[0;34m(self, gradient, retain_graph, create_graph, inputs)\u001b[0m\n\u001b[1;32m    387\u001b[0m \u001b[38;5;28;01mif\u001b[39;00m has_torch_function_unary(\u001b[38;5;28mself\u001b[39m):\n\u001b[1;32m    388\u001b[0m     \u001b[38;5;28;01mreturn\u001b[39;00m handle_torch_function(\n\u001b[1;32m    389\u001b[0m         Tensor\u001b[38;5;241m.\u001b[39mbackward,\n\u001b[1;32m    390\u001b[0m         (\u001b[38;5;28mself\u001b[39m,),\n\u001b[0;32m   (...)\u001b[0m\n\u001b[1;32m    394\u001b[0m         create_graph\u001b[38;5;241m=\u001b[39mcreate_graph,\n\u001b[1;32m    395\u001b[0m         inputs\u001b[38;5;241m=\u001b[39minputs)\n\u001b[0;32m--> 396\u001b[0m \u001b[43mtorch\u001b[49m\u001b[38;5;241;43m.\u001b[39;49m\u001b[43mautograd\u001b[49m\u001b[38;5;241;43m.\u001b[39;49m\u001b[43mbackward\u001b[49m\u001b[43m(\u001b[49m\u001b[38;5;28;43mself\u001b[39;49m\u001b[43m,\u001b[49m\u001b[43m \u001b[49m\u001b[43mgradient\u001b[49m\u001b[43m,\u001b[49m\u001b[43m \u001b[49m\u001b[43mretain_graph\u001b[49m\u001b[43m,\u001b[49m\u001b[43m \u001b[49m\u001b[43mcreate_graph\u001b[49m\u001b[43m,\u001b[49m\u001b[43m \u001b[49m\u001b[43minputs\u001b[49m\u001b[38;5;241;43m=\u001b[39;49m\u001b[43minputs\u001b[49m\u001b[43m)\u001b[49m\n",
      "File \u001b[0;32m~/anaconda3/envs/dissertation/lib/python3.8/site-packages/torch/autograd/__init__.py:173\u001b[0m, in \u001b[0;36mbackward\u001b[0;34m(tensors, grad_tensors, retain_graph, create_graph, grad_variables, inputs)\u001b[0m\n\u001b[1;32m    168\u001b[0m     retain_graph \u001b[38;5;241m=\u001b[39m create_graph\n\u001b[1;32m    170\u001b[0m \u001b[38;5;66;03m# The reason we repeat same the comment below is that\u001b[39;00m\n\u001b[1;32m    171\u001b[0m \u001b[38;5;66;03m# some Python versions print out the first line of a multi-line function\u001b[39;00m\n\u001b[1;32m    172\u001b[0m \u001b[38;5;66;03m# calls in the traceback and some print out the last line\u001b[39;00m\n\u001b[0;32m--> 173\u001b[0m \u001b[43mVariable\u001b[49m\u001b[38;5;241;43m.\u001b[39;49m\u001b[43m_execution_engine\u001b[49m\u001b[38;5;241;43m.\u001b[39;49m\u001b[43mrun_backward\u001b[49m\u001b[43m(\u001b[49m\u001b[43m  \u001b[49m\u001b[38;5;66;43;03m# Calls into the C++ engine to run the backward pass\u001b[39;49;00m\n\u001b[1;32m    174\u001b[0m \u001b[43m    \u001b[49m\u001b[43mtensors\u001b[49m\u001b[43m,\u001b[49m\u001b[43m \u001b[49m\u001b[43mgrad_tensors_\u001b[49m\u001b[43m,\u001b[49m\u001b[43m \u001b[49m\u001b[43mretain_graph\u001b[49m\u001b[43m,\u001b[49m\u001b[43m \u001b[49m\u001b[43mcreate_graph\u001b[49m\u001b[43m,\u001b[49m\u001b[43m \u001b[49m\u001b[43minputs\u001b[49m\u001b[43m,\u001b[49m\n\u001b[1;32m    175\u001b[0m \u001b[43m    \u001b[49m\u001b[43mallow_unreachable\u001b[49m\u001b[38;5;241;43m=\u001b[39;49m\u001b[38;5;28;43;01mTrue\u001b[39;49;00m\u001b[43m,\u001b[49m\u001b[43m \u001b[49m\u001b[43maccumulate_grad\u001b[49m\u001b[38;5;241;43m=\u001b[39;49m\u001b[38;5;28;43;01mTrue\u001b[39;49;00m\u001b[43m)\u001b[49m\n",
      "\u001b[0;31mKeyboardInterrupt\u001b[0m: "
     ]
    }
   ],
   "source": [
    "from torch.autograd import Variable\n",
    "\n",
    "for epoch in range(10):\n",
    "    model.train()\n",
    "    total_loss, accuracy = (0, 0)\n",
    "    for (x, y), (u, _) in zip(cycle(labelled), unlabelled):\n",
    "        # Wrap in variables\n",
    "        x, y, u = Variable(x), Variable(y), Variable(u)\n",
    "\n",
    "        if cuda:\n",
    "            # They need to be on the same device and be synchronized.\n",
    "            x, y = x.cuda(device=0), y.cuda(device=0)\n",
    "            u = u.cuda(device=0)\n",
    "\n",
    "        L = -elbo(x, y)\n",
    "        U = -elbo(u)\n",
    "\n",
    "        # Add auxiliary classification loss q(y|x)\n",
    "        logits = model.classify(x)\n",
    "        \n",
    "        # Regular cross entropy\n",
    "        classication_loss = torch.sum(y * torch.log(logits + 1e-8), dim=1).mean()\n",
    "\n",
    "        J_alpha = L - alpha * classication_loss + U\n",
    "\n",
    "        J_alpha.backward()\n",
    "        optimizer.step()\n",
    "        optimizer.zero_grad()\n",
    "\n",
    "        total_loss += J_alpha.data\n",
    "        accuracy += torch.mean((torch.max(logits, 1)[1].data == torch.max(y, 1)[1].data).float())\n",
    "        \n",
    "    if epoch % 1 == 0:\n",
    "        model.eval()\n",
    "        m = len(unlabelled)\n",
    "        print(\"Epoch: {}\".format(epoch))\n",
    "        print(\"[Train]\\t\\t J_a: {:.2f}, accuracy: {:.2f}\".format(total_loss / m, accuracy / m))\n",
    "\n",
    "        total_loss, accuracy = (0, 0)\n",
    "        for x, y in validation:\n",
    "            x, y = Variable(x), Variable(y)\n",
    "\n",
    "            if cuda:\n",
    "                x, y = x.cuda(device=0), y.cuda(device=0)\n",
    "\n",
    "            L = -elbo(x, y)\n",
    "            U = -elbo(x)\n",
    "\n",
    "            logits = model.classify(x)\n",
    "            classication_loss = -torch.sum(y * torch.log(logits + 1e-8), dim=1).mean()\n",
    "\n",
    "            J_alpha = L + alpha * classication_loss + U\n",
    "\n",
    "            total_loss += J_alpha.data\n",
    "\n",
    "            _, pred_idx = torch.max(logits, 1)\n",
    "            _, lab_idx = torch.max(y, 1)\n",
    "            accuracy += torch.mean((torch.max(logits, 1)[1].data == torch.max(y, 1)[1].data).float())\n",
    "\n",
    "        m = len(validation)\n",
    "        print(\"[Validation]\\t J_a: {:.2f}, accuracy: {:.2f}\".format(total_loss / m, accuracy / m))\n"
   ]
  },
  {
   "cell_type": "code",
   "execution_count": null,
   "id": "e8db7032",
   "metadata": {},
   "outputs": [],
   "source": []
  },
  {
   "cell_type": "code",
   "execution_count": null,
   "id": "0540f75f",
   "metadata": {},
   "outputs": [],
   "source": []
  }
 ],
 "metadata": {
  "interpreter": {
   "hash": "1e921aa318e5430d00fe89aa1ddefe9ab510ef49c3817fcc19c2997607dbb8d0"
  },
  "kernelspec": {
   "display_name": "dissertation",
   "language": "python",
   "name": "python3"
  },
  "language_info": {
   "codemirror_mode": {
    "name": "ipython",
    "version": 3
   },
   "file_extension": ".py",
   "mimetype": "text/x-python",
   "name": "python",
   "nbconvert_exporter": "python",
   "pygments_lexer": "ipython3",
   "version": "3.8.13"
  }
 },
 "nbformat": 4,
 "nbformat_minor": 5
}
